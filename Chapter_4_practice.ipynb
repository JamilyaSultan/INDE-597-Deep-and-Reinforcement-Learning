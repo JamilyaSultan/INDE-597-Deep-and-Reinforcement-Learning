{
  "nbformat": 4,
  "nbformat_minor": 0,
  "metadata": {
    "colab": {
      "name": "Chapter 4 practice.ipynb",
      "provenance": [],
      "authorship_tag": "ABX9TyM5Px0Dc6nJZBK+iYs2YzVq",
      "include_colab_link": true
    },
    "kernelspec": {
      "name": "python3",
      "display_name": "Python 3"
    },
    "language_info": {
      "name": "python"
    }
  },
  "cells": [
    {
      "cell_type": "markdown",
      "metadata": {
        "id": "view-in-github",
        "colab_type": "text"
      },
      "source": [
        "<a href=\"https://colab.research.google.com/github/JamilyaSultan/INDE-597-Deep-and-Reinforcement-Learning/blob/main/Chapter_4_practice.ipynb\" target=\"_parent\"><img src=\"https://colab.research.google.com/assets/colab-badge.svg\" alt=\"Open In Colab\"/></a>"
      ]
    },
    {
      "cell_type": "code",
      "execution_count": null,
      "metadata": {
        "colab": {
          "base_uri": "https://localhost:8080/"
        },
        "id": "NLYdLQ6aFgX3",
        "outputId": "b6ad6149-3c02-4708-81e7-d68611781f10"
      },
      "outputs": [
        {
          "output_type": "stream",
          "name": "stdout",
          "text": [
            "Downloading data from https://storage.googleapis.com/tensorflow/tf-keras-datasets/imdb.npz\n",
            "17465344/17464789 [==============================] - 0s 0us/step\n",
            "17473536/17464789 [==============================] - 0s 0us/step\n"
          ]
        }
      ],
      "source": [
        "import tensorflow as tf\n",
        "import matplotlib.pyplot as plt\n",
        "import numpy as np\n",
        "\n",
        "from tensorflow.keras.datasets import imdb\n",
        "(train_data, train_labels), (test_data, test_labels) = imdb.load_data(num_words=10_000)"
      ]
    },
    {
      "cell_type": "code",
      "source": [
        "train_data[0]"
      ],
      "metadata": {
        "colab": {
          "base_uri": "https://localhost:8080/"
        },
        "id": "2ndm_JHMJYzx",
        "outputId": "29c8ca21-1768-4de8-a893-d3be9bd1dcc3"
      },
      "execution_count": null,
      "outputs": [
        {
          "output_type": "execute_result",
          "data": {
            "text/plain": [
              "[1,\n",
              " 14,\n",
              " 22,\n",
              " 16,\n",
              " 43,\n",
              " 530,\n",
              " 973,\n",
              " 1622,\n",
              " 1385,\n",
              " 65,\n",
              " 458,\n",
              " 4468,\n",
              " 66,\n",
              " 3941,\n",
              " 4,\n",
              " 173,\n",
              " 36,\n",
              " 256,\n",
              " 5,\n",
              " 25,\n",
              " 100,\n",
              " 43,\n",
              " 838,\n",
              " 112,\n",
              " 50,\n",
              " 670,\n",
              " 2,\n",
              " 9,\n",
              " 35,\n",
              " 480,\n",
              " 284,\n",
              " 5,\n",
              " 150,\n",
              " 4,\n",
              " 172,\n",
              " 112,\n",
              " 167,\n",
              " 2,\n",
              " 336,\n",
              " 385,\n",
              " 39,\n",
              " 4,\n",
              " 172,\n",
              " 4536,\n",
              " 1111,\n",
              " 17,\n",
              " 546,\n",
              " 38,\n",
              " 13,\n",
              " 447,\n",
              " 4,\n",
              " 192,\n",
              " 50,\n",
              " 16,\n",
              " 6,\n",
              " 147,\n",
              " 2025,\n",
              " 19,\n",
              " 14,\n",
              " 22,\n",
              " 4,\n",
              " 1920,\n",
              " 4613,\n",
              " 469,\n",
              " 4,\n",
              " 22,\n",
              " 71,\n",
              " 87,\n",
              " 12,\n",
              " 16,\n",
              " 43,\n",
              " 530,\n",
              " 38,\n",
              " 76,\n",
              " 15,\n",
              " 13,\n",
              " 1247,\n",
              " 4,\n",
              " 22,\n",
              " 17,\n",
              " 515,\n",
              " 17,\n",
              " 12,\n",
              " 16,\n",
              " 626,\n",
              " 18,\n",
              " 2,\n",
              " 5,\n",
              " 62,\n",
              " 386,\n",
              " 12,\n",
              " 8,\n",
              " 316,\n",
              " 8,\n",
              " 106,\n",
              " 5,\n",
              " 4,\n",
              " 2223,\n",
              " 5244,\n",
              " 16,\n",
              " 480,\n",
              " 66,\n",
              " 3785,\n",
              " 33,\n",
              " 4,\n",
              " 130,\n",
              " 12,\n",
              " 16,\n",
              " 38,\n",
              " 619,\n",
              " 5,\n",
              " 25,\n",
              " 124,\n",
              " 51,\n",
              " 36,\n",
              " 135,\n",
              " 48,\n",
              " 25,\n",
              " 1415,\n",
              " 33,\n",
              " 6,\n",
              " 22,\n",
              " 12,\n",
              " 215,\n",
              " 28,\n",
              " 77,\n",
              " 52,\n",
              " 5,\n",
              " 14,\n",
              " 407,\n",
              " 16,\n",
              " 82,\n",
              " 2,\n",
              " 8,\n",
              " 4,\n",
              " 107,\n",
              " 117,\n",
              " 5952,\n",
              " 15,\n",
              " 256,\n",
              " 4,\n",
              " 2,\n",
              " 7,\n",
              " 3766,\n",
              " 5,\n",
              " 723,\n",
              " 36,\n",
              " 71,\n",
              " 43,\n",
              " 530,\n",
              " 476,\n",
              " 26,\n",
              " 400,\n",
              " 317,\n",
              " 46,\n",
              " 7,\n",
              " 4,\n",
              " 2,\n",
              " 1029,\n",
              " 13,\n",
              " 104,\n",
              " 88,\n",
              " 4,\n",
              " 381,\n",
              " 15,\n",
              " 297,\n",
              " 98,\n",
              " 32,\n",
              " 2071,\n",
              " 56,\n",
              " 26,\n",
              " 141,\n",
              " 6,\n",
              " 194,\n",
              " 7486,\n",
              " 18,\n",
              " 4,\n",
              " 226,\n",
              " 22,\n",
              " 21,\n",
              " 134,\n",
              " 476,\n",
              " 26,\n",
              " 480,\n",
              " 5,\n",
              " 144,\n",
              " 30,\n",
              " 5535,\n",
              " 18,\n",
              " 51,\n",
              " 36,\n",
              " 28,\n",
              " 224,\n",
              " 92,\n",
              " 25,\n",
              " 104,\n",
              " 4,\n",
              " 226,\n",
              " 65,\n",
              " 16,\n",
              " 38,\n",
              " 1334,\n",
              " 88,\n",
              " 12,\n",
              " 16,\n",
              " 283,\n",
              " 5,\n",
              " 16,\n",
              " 4472,\n",
              " 113,\n",
              " 103,\n",
              " 32,\n",
              " 15,\n",
              " 16,\n",
              " 5345,\n",
              " 19,\n",
              " 178,\n",
              " 32]"
            ]
          },
          "metadata": {},
          "execution_count": 2
        }
      ]
    },
    {
      "cell_type": "code",
      "source": [
        "# Verify lengths\n",
        "max([max(seq) for seq in train_data])"
      ],
      "metadata": {
        "colab": {
          "base_uri": "https://localhost:8080/"
        },
        "id": "ZNUpkZkTJxQA",
        "outputId": "200ba3de-5c29-4eb1-99fb-b2a198406da7"
      },
      "execution_count": null,
      "outputs": [
        {
          "output_type": "execute_result",
          "data": {
            "text/plain": [
              "9999"
            ]
          },
          "metadata": {},
          "execution_count": 3
        }
      ]
    },
    {
      "cell_type": "code",
      "source": [
        "word_index = imdb.get_word_index()\n",
        "\n",
        "reversed_word_index = dict(\n",
        "\n",
        "    [(value, key) for (key, value) in word_index.items()]\n",
        ")"
      ],
      "metadata": {
        "id": "2dCKNzVfKRTd"
      },
      "execution_count": null,
      "outputs": []
    },
    {
      "cell_type": "code",
      "source": [
        "def decoded_view(data, i):\n",
        "    view = \" \".join([reversed_word_index.get(j-3, \"?\") for j in data[i]])\n",
        "    return view"
      ],
      "metadata": {
        "id": "FC2F1S1cKbJA"
      },
      "execution_count": null,
      "outputs": []
    },
    {
      "cell_type": "code",
      "source": [
        "decoded_view(train_data, 0)"
      ],
      "metadata": {
        "colab": {
          "base_uri": "https://localhost:8080/",
          "height": 192
        },
        "id": "0AddFvMhKdLh",
        "outputId": "517d612f-2928-4f85-8af8-281ab41e75e0"
      },
      "execution_count": null,
      "outputs": [
        {
          "output_type": "execute_result",
          "data": {
            "text/plain": [
              "\"? this film was just brilliant casting location scenery story direction everyone's really suited the part they played and you could just imagine being there robert ? is an amazing actor and now the same being director ? father came from the same scottish island as myself so i loved the fact there was a real connection with this film the witty remarks throughout the film were great it was just brilliant so much that i bought the film as soon as it was released for ? and would recommend it to everyone to watch and the fly fishing was amazing really cried at the end it was so sad and you know what they say if you cry at a film it must have been good and this definitely was also ? to the two little boy's that played the ? of norman and paul they were just brilliant children are often left out of the ? list i think because the stars that play them all grown up are such a big profile for the whole film but these children are amazing and should be praised for what they have done don't you think the whole story was so lovely because it was true and was someone's life after all that was shared with us all\""
            ],
            "application/vnd.google.colaboratory.intrinsic+json": {
              "type": "string"
            }
          },
          "metadata": {},
          "execution_count": 9
        }
      ]
    },
    {
      "cell_type": "code",
      "source": [
        "# Multi-hot Encode the inout vectors\n",
        "#input_x = [3, 6, 4]\n",
        "#new_input_x = [0, 0, 0, 1, 1, 0, 1]\n",
        "\n",
        "def vectorize_sequence(sequences, dimension=10_000):\n",
        "    results = np.zeros((len(sequences), dimension))\n",
        "    for i, sequence in enumerate(sequences):\n",
        "        for j in sequence:\n",
        "            results[i,j] = 1\n",
        "    return results\n",
        "\n",
        "x_train = vectorize_sequence(train_data)\n",
        "x_test = vectorize_sequence(test_data)\n",
        "\n",
        "y_train = np.asarray(train_labels).astype(\"float32\")\n",
        "y_test = np.asarray(test_labels).astype(\"float32\")"
      ],
      "metadata": {
        "id": "n2RxQdG-L4to"
      },
      "execution_count": null,
      "outputs": []
    },
    {
      "cell_type": "code",
      "source": [
        "x_train.shape"
      ],
      "metadata": {
        "colab": {
          "base_uri": "https://localhost:8080/"
        },
        "id": "_-yYaCmOOAlg",
        "outputId": "ffb385ef-a4d4-4766-f6a6-633cd43e0b18"
      },
      "execution_count": null,
      "outputs": [
        {
          "output_type": "execute_result",
          "data": {
            "text/plain": [
              "(25000, 10000)"
            ]
          },
          "metadata": {},
          "execution_count": 11
        }
      ]
    },
    {
      "cell_type": "code",
      "source": [
        "from tensorflow import keras\n",
        "from tensorflow.keras import layers\n",
        "\n",
        "#Instantiate the model with layers\n",
        "model = keras.Sequential([\n",
        "                          layers.Dense(16, activation = 'relu'),\n",
        "                          layers.Dense(16, activation = \"relu\"),\n",
        "                          layers.Dense(1, activation=\"sigmoid\")\n",
        "])\n",
        "\n",
        "#compile the model with optimizer and loss\n",
        "model.compile(optimizer='rmsprop', loss=\"binary_crossentropy\", metrics=[\"accuracy\"])\n"
      ],
      "metadata": {
        "id": "pGPoNC0lOFlW"
      },
      "execution_count": null,
      "outputs": []
    },
    {
      "cell_type": "code",
      "source": [
        "x_val = x_train[:10000]\n",
        "partial_x_train = x_train[10000:]\n",
        "\n",
        "y_val = y_train[:10000]\n",
        "partial_y_train = y_train[10000:]\n"
      ],
      "metadata": {
        "id": "G1flXuelPUrZ"
      },
      "execution_count": null,
      "outputs": []
    },
    {
      "cell_type": "code",
      "source": [
        "history = model.fit(partial_x_train,\n",
        "                    partial_y_train,\n",
        "                    epochs=20,\n",
        "                    batch_size=512,\n",
        "                    validation_data=(x_val, y_val))"
      ],
      "metadata": {
        "colab": {
          "base_uri": "https://localhost:8080/"
        },
        "id": "-_4GSODeQOiq",
        "outputId": "fd970aac-6d38-4ca9-ae87-baa4fe29ffbc"
      },
      "execution_count": null,
      "outputs": [
        {
          "output_type": "stream",
          "name": "stdout",
          "text": [
            "Epoch 1/20\n",
            "30/30 [==============================] - 3s 54ms/step - loss: 0.5084 - accuracy: 0.7877 - val_loss: 0.3771 - val_accuracy: 0.8753\n",
            "Epoch 2/20\n",
            "30/30 [==============================] - 1s 37ms/step - loss: 0.3046 - accuracy: 0.9039 - val_loss: 0.3233 - val_accuracy: 0.8710\n",
            "Epoch 3/20\n",
            "30/30 [==============================] - 1s 39ms/step - loss: 0.2243 - accuracy: 0.9279 - val_loss: 0.2853 - val_accuracy: 0.8882\n",
            "Epoch 4/20\n",
            "30/30 [==============================] - 1s 41ms/step - loss: 0.1760 - accuracy: 0.9440 - val_loss: 0.2984 - val_accuracy: 0.8830\n",
            "Epoch 5/20\n",
            "30/30 [==============================] - 1s 40ms/step - loss: 0.1448 - accuracy: 0.9542 - val_loss: 0.2861 - val_accuracy: 0.8856\n",
            "Epoch 6/20\n",
            "30/30 [==============================] - 1s 38ms/step - loss: 0.1173 - accuracy: 0.9637 - val_loss: 0.2925 - val_accuracy: 0.8837\n",
            "Epoch 7/20\n",
            "30/30 [==============================] - 1s 38ms/step - loss: 0.0979 - accuracy: 0.9715 - val_loss: 0.3170 - val_accuracy: 0.8820\n",
            "Epoch 8/20\n",
            "30/30 [==============================] - 1s 40ms/step - loss: 0.0844 - accuracy: 0.9747 - val_loss: 0.3319 - val_accuracy: 0.8807\n",
            "Epoch 9/20\n",
            "30/30 [==============================] - 1s 37ms/step - loss: 0.0663 - accuracy: 0.9823 - val_loss: 0.3609 - val_accuracy: 0.8785\n",
            "Epoch 10/20\n",
            "30/30 [==============================] - 1s 38ms/step - loss: 0.0551 - accuracy: 0.9863 - val_loss: 0.4201 - val_accuracy: 0.8693\n",
            "Epoch 11/20\n",
            "30/30 [==============================] - 1s 37ms/step - loss: 0.0474 - accuracy: 0.9877 - val_loss: 0.4205 - val_accuracy: 0.8743\n",
            "Epoch 12/20\n",
            "30/30 [==============================] - 1s 39ms/step - loss: 0.0344 - accuracy: 0.9936 - val_loss: 0.4647 - val_accuracy: 0.8678\n",
            "Epoch 13/20\n",
            "30/30 [==============================] - 1s 41ms/step - loss: 0.0312 - accuracy: 0.9924 - val_loss: 0.4678 - val_accuracy: 0.8738\n",
            "Epoch 14/20\n",
            "30/30 [==============================] - 1s 40ms/step - loss: 0.0243 - accuracy: 0.9957 - val_loss: 0.5000 - val_accuracy: 0.8709\n",
            "Epoch 15/20\n",
            "30/30 [==============================] - 1s 38ms/step - loss: 0.0192 - accuracy: 0.9971 - val_loss: 0.5351 - val_accuracy: 0.8704\n",
            "Epoch 16/20\n",
            "30/30 [==============================] - 1s 40ms/step - loss: 0.0175 - accuracy: 0.9975 - val_loss: 0.5741 - val_accuracy: 0.8689\n",
            "Epoch 17/20\n",
            "30/30 [==============================] - 1s 37ms/step - loss: 0.0139 - accuracy: 0.9976 - val_loss: 0.6046 - val_accuracy: 0.8655\n",
            "Epoch 18/20\n",
            "30/30 [==============================] - 1s 38ms/step - loss: 0.0075 - accuracy: 0.9995 - val_loss: 0.7928 - val_accuracy: 0.8471\n",
            "Epoch 19/20\n",
            "30/30 [==============================] - 1s 37ms/step - loss: 0.0083 - accuracy: 0.9991 - val_loss: 0.6813 - val_accuracy: 0.8638\n",
            "Epoch 20/20\n",
            "30/30 [==============================] - 1s 37ms/step - loss: 0.0094 - accuracy: 0.9978 - val_loss: 0.7059 - val_accuracy: 0.8657\n"
          ]
        }
      ]
    },
    {
      "cell_type": "code",
      "source": [
        "history_dict = history.history\n",
        "loss_values = history_dict[\"loss\"]\n",
        "val_loss_values = history_dict[\"val_loss\"]\n",
        "epochs = range(1, len(loss_values)+1)\n",
        "\n",
        "plt.figure(figsize=(10,8))\n",
        "plt.plot(epochs, loss_values, label = \"training loss\")\n",
        "plt.plot(epochs, val_loss_values, label = \"validation loss\")\n",
        "plt.xticks(epochs)\n",
        "plt.xlabel(\"epochs\")\n",
        "plt.ylabel('loss')\n",
        "plt.legend()\n",
        "plt.show"
      ],
      "metadata": {
        "colab": {
          "base_uri": "https://localhost:8080/",
          "height": 514
        },
        "id": "YcL1u_TqQpER",
        "outputId": "22dc2d45-4e40-41a6-f299-0014c9d5cf63"
      },
      "execution_count": null,
      "outputs": [
        {
          "output_type": "execute_result",
          "data": {
            "text/plain": [
              "<function matplotlib.pyplot.show>"
            ]
          },
          "metadata": {},
          "execution_count": 18
        },
        {
          "output_type": "display_data",
          "data": {
            "text/plain": [
              "<Figure size 720x576 with 1 Axes>"
            ],
            "image/png": "[encoded data removed]"
          },
          "metadata": {
            "needs_background": "light"
          }
        }
      ]
    },
    {
      "cell_type": "code",
      "source": [
        ""
      ],
      "metadata": {
        "id": "DIzidir_Q0Lv"
      },
      "execution_count": null,
      "outputs": []
    }
  ]
}