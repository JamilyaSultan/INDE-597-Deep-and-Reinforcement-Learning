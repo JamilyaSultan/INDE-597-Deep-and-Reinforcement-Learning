{
  "nbformat": 4,
  "nbformat_minor": 0,
  "metadata": {
    "colab": {
      "name": "Copy of grid_world_value_iteration.ipynb",
      "provenance": [],
      "include_colab_link": true
    },
    "kernelspec": {
      "name": "python3",
      "display_name": "Python 3"
    },
    "language_info": {
      "name": "python"
    }
  },
  "cells": [
    {
      "cell_type": "markdown",
      "metadata": {
        "id": "view-in-github",
        "colab_type": "text"
      },
      "source": [
        "<a href=\"https://colab.research.google.com/github/JamilyaSultan/INDE-597-Deep-and-Reinforcement-Learning/blob/main/Copy_of_grid_world_value_iteration.ipynb\" target=\"_parent\"><img src=\"https://colab.research.google.com/assets/colab-badge.svg\" alt=\"Open In Colab\"/></a>"
      ]
    },
    {
      "cell_type": "code",
      "execution_count": null,
      "metadata": {
        "id": "5aSynSoqeD95"
      },
      "outputs": [],
      "source": [
        "\n",
        "\n",
        "import numpy as np\n",
        "import matplotlib.pyplot as plt\n",
        "\n",
        "class GridWorld(object):\n",
        "    def __init__(self, gridSize, items):\n",
        "        self.step_reward = -1\n",
        "        self.m = gridSize[0]\n",
        "        self.n = gridSize[1]\n",
        "        self.grid = np.zeros(gridSize)\n",
        "        self.items = items\n",
        "\n",
        "        # Enumerate all possible states \n",
        "        self.state_space = list(range(self.m * self.n))\n",
        "\n",
        "        # Enumerate all actions\n",
        "        self.action_space = {'U': -self.m, 'D': self.m, 'L': -1, 'R': 1}\n",
        "        self.actions = ['U', 'D', 'L', 'R']\n",
        "\n",
        "        self.P = self.int_P()\n",
        "\n",
        "    def int_P(self):\n",
        "        P = {}\n",
        "        for state in self.state_space:\n",
        "            for action in self.actions:\n",
        "                reward = self.step_reward\n",
        "                n_state = state + self.action_space[action]\n",
        "                \n",
        "                if n_state in self.items.get('fire').get('loc'):\n",
        "                    reward += self.items.get('fire').get('reward')\n",
        "                elif n_state in self.items.get('water').get('loc'):\n",
        "                    reward += self.items.get('water').get('reward')\n",
        "                elif self.check_move(n_state, state):\n",
        "                    n_state = state\n",
        "\n",
        "                P[(state ,action)] = (n_state, reward)\n",
        "        return P\n",
        "\n",
        "    def check_terminal(self, state):\n",
        "        return state in self.items.get('fire').get('loc') + self.items.get('water').get('loc')\n",
        "\n",
        "    def check_move(self, n_state, oldState):\n",
        "        if n_state not in self.state_space:\n",
        "            return True\n",
        "        elif oldState % self.m == 0 and n_state % self.m == self.m - 1:\n",
        "            return True\n",
        "        elif oldState % self.m == self.m - 1 and n_state % self.m == 0:\n",
        "            return True\n",
        "        else:\n",
        "            return False"
      ]
    },
    {
      "cell_type": "code",
      "source": [
        "grid_size = (5, 5)\n",
        "items = {'fire': {'reward': -10, 'loc': [12]},\n",
        "             'water': {'reward': 10, 'loc': [18]}}\n",
        "\n",
        "env = GridWorld(grid_size, items)"
      ],
      "metadata": {
        "id": "8JZzKxuBet6F"
      },
      "execution_count": null,
      "outputs": []
    },
    {
      "cell_type": "code",
      "source": [
        "env.action_space"
      ],
      "metadata": {
        "colab": {
          "base_uri": "https://localhost:8080/"
        },
        "id": "a60_4ZGme9a4",
        "outputId": "44fdc80d-6037-4306-d6e3-7229728cf74f"
      },
      "execution_count": null,
      "outputs": [
        {
          "output_type": "execute_result",
          "data": {
            "text/plain": [
              "{'D': 5, 'L': -1, 'R': 1, 'U': -5}"
            ]
          },
          "metadata": {},
          "execution_count": 3
        }
      ]
    },
    {
      "cell_type": "code",
      "source": [
        "env.P"
      ],
      "metadata": {
        "colab": {
          "base_uri": "https://localhost:8080/"
        },
        "id": "bc672VVKft_B",
        "outputId": "1669ebe8-1bae-4e77-de0d-cedb9cd4a911"
      },
      "execution_count": null,
      "outputs": [
        {
          "output_type": "execute_result",
          "data": {
            "text/plain": [
              "{(0, 'D'): (5, -1),\n",
              " (0, 'L'): (0, -1),\n",
              " (0, 'R'): (1, -1),\n",
              " (0, 'U'): (0, -1),\n",
              " (1, 'D'): (6, -1),\n",
              " (1, 'L'): (0, -1),\n",
              " (1, 'R'): (2, -1),\n",
              " (1, 'U'): (1, -1),\n",
              " (2, 'D'): (7, -1),\n",
              " (2, 'L'): (1, -1),\n",
              " (2, 'R'): (3, -1),\n",
              " (2, 'U'): (2, -1),\n",
              " (3, 'D'): (8, -1),\n",
              " (3, 'L'): (2, -1),\n",
              " (3, 'R'): (4, -1),\n",
              " (3, 'U'): (3, -1),\n",
              " (4, 'D'): (9, -1),\n",
              " (4, 'L'): (3, -1),\n",
              " (4, 'R'): (4, -1),\n",
              " (4, 'U'): (4, -1),\n",
              " (5, 'D'): (10, -1),\n",
              " (5, 'L'): (5, -1),\n",
              " (5, 'R'): (6, -1),\n",
              " (5, 'U'): (0, -1),\n",
              " (6, 'D'): (11, -1),\n",
              " (6, 'L'): (5, -1),\n",
              " (6, 'R'): (7, -1),\n",
              " (6, 'U'): (1, -1),\n",
              " (7, 'D'): (12, -11),\n",
              " (7, 'L'): (6, -1),\n",
              " (7, 'R'): (8, -1),\n",
              " (7, 'U'): (2, -1),\n",
              " (8, 'D'): (13, -1),\n",
              " (8, 'L'): (7, -1),\n",
              " (8, 'R'): (9, -1),\n",
              " (8, 'U'): (3, -1),\n",
              " (9, 'D'): (14, -1),\n",
              " (9, 'L'): (8, -1),\n",
              " (9, 'R'): (9, -1),\n",
              " (9, 'U'): (4, -1),\n",
              " (10, 'D'): (15, -1),\n",
              " (10, 'L'): (10, -1),\n",
              " (10, 'R'): (11, -1),\n",
              " (10, 'U'): (5, -1),\n",
              " (11, 'D'): (16, -1),\n",
              " (11, 'L'): (10, -1),\n",
              " (11, 'R'): (12, -11),\n",
              " (11, 'U'): (6, -1),\n",
              " (12, 'D'): (17, -1),\n",
              " (12, 'L'): (11, -1),\n",
              " (12, 'R'): (13, -1),\n",
              " (12, 'U'): (7, -1),\n",
              " (13, 'D'): (18, 9),\n",
              " (13, 'L'): (12, -11),\n",
              " (13, 'R'): (14, -1),\n",
              " (13, 'U'): (8, -1),\n",
              " (14, 'D'): (19, -1),\n",
              " (14, 'L'): (13, -1),\n",
              " (14, 'R'): (14, -1),\n",
              " (14, 'U'): (9, -1),\n",
              " (15, 'D'): (20, -1),\n",
              " (15, 'L'): (15, -1),\n",
              " (15, 'R'): (16, -1),\n",
              " (15, 'U'): (10, -1),\n",
              " (16, 'D'): (21, -1),\n",
              " (16, 'L'): (15, -1),\n",
              " (16, 'R'): (17, -1),\n",
              " (16, 'U'): (11, -1),\n",
              " (17, 'D'): (22, -1),\n",
              " (17, 'L'): (16, -1),\n",
              " (17, 'R'): (18, 9),\n",
              " (17, 'U'): (12, -11),\n",
              " (18, 'D'): (23, -1),\n",
              " (18, 'L'): (17, -1),\n",
              " (18, 'R'): (19, -1),\n",
              " (18, 'U'): (13, -1),\n",
              " (19, 'D'): (24, -1),\n",
              " (19, 'L'): (18, 9),\n",
              " (19, 'R'): (19, -1),\n",
              " (19, 'U'): (14, -1),\n",
              " (20, 'D'): (20, -1),\n",
              " (20, 'L'): (20, -1),\n",
              " (20, 'R'): (21, -1),\n",
              " (20, 'U'): (15, -1),\n",
              " (21, 'D'): (21, -1),\n",
              " (21, 'L'): (20, -1),\n",
              " (21, 'R'): (22, -1),\n",
              " (21, 'U'): (16, -1),\n",
              " (22, 'D'): (22, -1),\n",
              " (22, 'L'): (21, -1),\n",
              " (22, 'R'): (23, -1),\n",
              " (22, 'U'): (17, -1),\n",
              " (23, 'D'): (23, -1),\n",
              " (23, 'L'): (22, -1),\n",
              " (23, 'R'): (24, -1),\n",
              " (23, 'U'): (18, 9),\n",
              " (24, 'D'): (24, -1),\n",
              " (24, 'L'): (23, -1),\n",
              " (24, 'R'): (24, -1),\n",
              " (24, 'U'): (19, -1)}"
            ]
          },
          "metadata": {},
          "execution_count": 4
        }
      ]
    },
    {
      "cell_type": "code",
      "source": [
        "def print_v(v, grid):\n",
        "    v = np.reshape(v, (grid.n, grid.m))\n",
        "\n",
        "    cmap = plt.cm.get_cmap('Greens', 10)\n",
        "    norm = plt.Normalize(v.min(), v.max())\n",
        "    rgba = cmap(norm(v))\n",
        "\n",
        "    for w in grid.items.get('water').get('loc'):\n",
        "        idx = np.unravel_index(w, v.shape)\n",
        "        rgba[idx] = 0.0, 0.5, 0.8, 1.0\n",
        "\n",
        "    for f in grid.items.get('fire').get('loc'):\n",
        "        idx = np.unravel_index(f, v.shape)\n",
        "        rgba[idx] = 1.0, 0.5, 0.1, 1.0\n",
        "\n",
        "    fig, ax = plt.subplots()\n",
        "    im = ax.imshow(rgba, interpolation='nearest')\n",
        "\n",
        "    for i in range(v.shape[0]):\n",
        "        for j in range(v.shape[1]):\n",
        "            if v[i, j] != 0:\n",
        "                text = ax.text(j, i, v[i, j], ha=\"center\", va=\"center\", color=\"w\")\n",
        "\n",
        "    plt.axis('off')\n",
        "\n",
        "    # plt.savefig('deterministic_v.jpg', bbox_inches='tight', dpi=200)\n",
        "    plt.show()"
      ],
      "metadata": {
        "id": "P0laXA95f3PT"
      },
      "execution_count": null,
      "outputs": []
    },
    {
      "cell_type": "code",
      "source": [
        "v = np.zeros(np.prod(grid_size))\n",
        "print_v(v, env)"
      ],
      "metadata": {
        "colab": {
          "base_uri": "https://localhost:8080/",
          "height": 248
        },
        "id": "6di9_LWQgRld",
        "outputId": "03840560-60b1-4659-d429-958eeb85c469"
      },
      "execution_count": null,
      "outputs": [
        {
          "output_type": "display_data",
          "data": {
            "text/plain": [
              "<Figure size 432x288 with 1 Axes>"
            ],
            "image/png": "[encoded data removed]"
          },
          "metadata": {
            "needs_background": "light"
          }
        }
      ]
    },
    {
      "cell_type": "code",
      "source": [
        "v.shape"
      ],
      "metadata": {
        "colab": {
          "base_uri": "https://localhost:8080/"
        },
        "id": "ST0vxHqkFxUH",
        "outputId": "8cb889e5-5a1d-4bf9-c248-fa43c04858d6"
      },
      "execution_count": null,
      "outputs": [
        {
          "output_type": "execute_result",
          "data": {
            "text/plain": [
              "(25,)"
            ]
          },
          "metadata": {},
          "execution_count": 7
        }
      ]
    },
    {
      "cell_type": "code",
      "source": [
        "def print_policy(v, policy, grid):\n",
        "    v = np.reshape(v, (grid.n, grid.m))\n",
        "    policy = np.reshape(policy, (grid.n, grid.m))\n",
        "\n",
        "    cmap = plt.cm.get_cmap('Greens', 10)\n",
        "    norm = plt.Normalize(v.min(), v.max())\n",
        "    rgba = cmap(norm(v))\n",
        "\n",
        "    for w in grid.items.get('water').get('loc'):\n",
        "        idx = np.unravel_index(w, v.shape)\n",
        "        rgba[idx] = 0.0, 0.5, 0.8, 1.0\n",
        "\n",
        "    for f in grid.items.get('fire').get('loc'):\n",
        "        idx = np.unravel_index(f, v.shape)\n",
        "        rgba[idx] = 1.0, 0.5, 0.1, 1.0\n",
        "\n",
        "    fig, ax = plt.subplots()\n",
        "    im = ax.imshow(rgba, interpolation='nearest')\n",
        "\n",
        "    for i in range(v.shape[0]):\n",
        "        for j in range(v.shape[1]):\n",
        "            if v[i, j] != 0:\n",
        "                text = ax.text(j, i, policy[i, j], ha=\"center\", va=\"center\", color=\"w\")\n",
        "\n",
        "    plt.axis('off')\n",
        "    # plt.savefig('deterministic_policy.jpg', bbox_inches='tight', dpi=200)\n",
        "    plt.show()"
      ],
      "metadata": {
        "id": "Ds_bmukHgaZn"
      },
      "execution_count": null,
      "outputs": []
    },
    {
      "cell_type": "code",
      "source": [
        "policy = np.full(np.prod(grid_size), 'n')\n",
        "print_policy(v, policy, env)"
      ],
      "metadata": {
        "colab": {
          "base_uri": "https://localhost:8080/",
          "height": 248
        },
        "id": "egT3EVZ9go0v",
        "outputId": "0c80820e-c4a9-4a4f-d4f0-66cb8b578dbc"
      },
      "execution_count": null,
      "outputs": [
        {
          "output_type": "display_data",
          "data": {
            "text/plain": [
              "<Figure size 432x288 with 1 Axes>"
            ],
            "image/png": "[encoded data removed]"
          },
          "metadata": {
            "needs_background": "light"
          }
        }
      ]
    },
    {
      "cell_type": "code",
      "source": [
        "def interate_values(grid, v , policy, gamma, theta):\n",
        "    converged = False\n",
        "    i = 0\n",
        "    while not converged:\n",
        "        DELTA = 0\n",
        "        print_v(v, grid)\n",
        "        for state in grid.state_space:\n",
        "            i += 1\n",
        "            if  grid.check_terminal(state):\n",
        "                v[state] = 0\n",
        "\n",
        "            else:\n",
        "                old_v = v[state]\n",
        "                new_v = []\n",
        "                for action in grid.actions:\n",
        "                    (n_state, reward) = grid.P.get((state, action))\n",
        "                    # print(reward)\n",
        "                    # if reward == 9:\n",
        "                    #     print(reward + gamma * v[n_state])\n",
        "                    new_v.append(reward + gamma * v[n_state])\n",
        "\n",
        "                v[state] = max(new_v)\n",
        "\n",
        "                DELTA = max(DELTA, np.abs(old_v - v[state]))\n",
        "                converged = True if DELTA < theta else False\n",
        "\n",
        "    for state in grid.state_space:\n",
        "        i += 1\n",
        "        new_vs = []\n",
        "\n",
        "        for action in grid.actions:\n",
        "            (n_state, reward) = grid.P.get((state, action))\n",
        "            new_vs.append(reward + gamma * v[n_state])\n",
        "\n",
        "        new_vs = np.array(new_vs)\n",
        "        best_action_idx = np.where(new_vs == new_vs.max())[0]\n",
        "        policy[state] = grid.actions[best_action_idx[0]]\n",
        "    \n",
        "    print(i, 'iterations of state space')\n",
        "    return v, policy"
      ],
      "metadata": {
        "id": "uRit0UYHguE0"
      },
      "execution_count": null,
      "outputs": []
    },
    {
      "cell_type": "code",
      "source": [
        "grid_size = (5, 5)\n",
        "items = {'fire': {'reward': -10, 'loc': [12]},\n",
        "             'water': {'reward': 10, 'loc': [18]}}\n",
        "\n",
        "gamma = 1.0\n",
        "theta = 1e-10\n",
        "\n",
        "v = np.zeros(np.prod(grid_size))\n",
        "policy = np.full(np.prod(grid_size), 'n')\n",
        "\n",
        "env = GridWorld(grid_size, items)\n",
        "\n",
        "v, policy = interate_values(env, v, policy, gamma, theta)\n",
        "\n",
        "# print_v(v, env)\n",
        "# print_policy(v, policy, env)"
      ],
      "metadata": {
        "colab": {
          "base_uri": "https://localhost:8080/",
          "height": 1000
        },
        "id": "nx6bSqOfgyoJ",
        "outputId": "050d7f17-628e-4d2b-d5f3-83882bdb34f8"
      },
      "execution_count": null,
      "outputs": [
        {
          "output_type": "display_data",
          "data": {
            "text/plain": [
              "<Figure size 432x288 with 1 Axes>"
            ],
            "image/png": "[encoded data removed]"
          },
          "metadata": {
            "needs_background": "light"
          }
        },
        {
          "output_type": "display_data",
          "data": {
            "text/plain": [
              "<Figure size 432x288 with 1 Axes>"
            ],
            "image/png": "[encoded data removed]"
          },
          "metadata": {
            "needs_background": "light"
          }
        },
        {
          "output_type": "display_data",
          "data": {
            "text/plain": [
              "<Figure size 432x288 with 1 Axes>"
            ],
            "image/png": "[encoded data removed]"
          },
          "metadata": {
            "needs_background": "light"
          }
        },
        {
          "output_type": "display_data",
          "data": {
            "text/plain": [
              "<Figure size 432x288 with 1 Axes>"
            ],
            "image/png": "[encoded data removed]"
          },
          "metadata": {
            "needs_background": "light"
          }
        },
        {
          "output_type": "display_data",
          "data": {
            "text/plain": [
              "<Figure size 432x288 with 1 Axes>"
            ],
            "image/png": "[encoded data removed]"
          },
          "metadata": {
            "needs_background": "light"
          }
        },
        {
          "output_type": "display_data",
          "data": {
            "text/plain": [
              "<Figure size 432x288 with 1 Axes>"
            ],
            "image/png": "[encoded data removed]"
          },
          "metadata": {
            "needs_background": "light"
          }
        },
        {
          "output_type": "display_data",
          "data": {
            "text/plain": [
              "<Figure size 432x288 with 1 Axes>"
            ],
            "image/png": "[encoded data removed]"
          },
          "metadata": {
            "needs_background": "light"
          }
        },
        {
          "output_type": "stream",
          "name": "stdout",
          "text": [
            "200 iterations of state space\n"
          ]
        }
      ]
    },
    {
      "cell_type": "code",
      "source": [
        ""
      ],
      "metadata": {
        "id": "V2XfegC3g5v7"
      },
      "execution_count": null,
      "outputs": []
    },
    {
      "cell_type": "code",
      "source": [
        "policy"
      ],
      "metadata": {
        "colab": {
          "base_uri": "https://localhost:8080/"
        },
        "id": "ggBmUhavG0QA",
        "outputId": "eccf4064-1131-427c-ec95-fc415184f826"
      },
      "execution_count": null,
      "outputs": [
        {
          "output_type": "execute_result",
          "data": {
            "text/plain": [
              "array(['D', 'D', 'D', 'D', 'D', 'D', 'D', 'R', 'D', 'D', 'D', 'D', 'D',\n",
              "       'D', 'D', 'R', 'R', 'R', 'U', 'L', 'U', 'U', 'U', 'U', 'U'],\n",
              "      dtype='<U1')"
            ]
          },
          "metadata": {},
          "execution_count": 12
        }
      ]
    },
    {
      "cell_type": "code",
      "source": [
        "np.zeros(np.prod(grid_size))"
      ],
      "metadata": {
        "colab": {
          "base_uri": "https://localhost:8080/"
        },
        "id": "zEQuciwEG0_c",
        "outputId": "08ee88f6-86c8-4396-ef38-ca192216e952"
      },
      "execution_count": null,
      "outputs": [
        {
          "output_type": "execute_result",
          "data": {
            "text/plain": [
              "array([0., 0., 0., 0., 0., 0., 0., 0., 0., 0., 0., 0., 0., 0., 0., 0., 0.,\n",
              "       0., 0., 0., 0., 0., 0., 0., 0.])"
            ]
          },
          "metadata": {},
          "execution_count": 13
        }
      ]
    },
    {
      "cell_type": "code",
      "source": [
        "env.P"
      ],
      "metadata": {
        "colab": {
          "base_uri": "https://localhost:8080/"
        },
        "id": "3jowAY0LG-0e",
        "outputId": "e5910b25-63fc-4ce9-f349-d78bcc8602e7"
      },
      "execution_count": null,
      "outputs": [
        {
          "output_type": "execute_result",
          "data": {
            "text/plain": [
              "{(0, 'D'): (5, -1),\n",
              " (0, 'L'): (0, -1),\n",
              " (0, 'R'): (1, -1),\n",
              " (0, 'U'): (0, -1),\n",
              " (1, 'D'): (6, -1),\n",
              " (1, 'L'): (0, -1),\n",
              " (1, 'R'): (2, -1),\n",
              " (1, 'U'): (1, -1),\n",
              " (2, 'D'): (7, -1),\n",
              " (2, 'L'): (1, -1),\n",
              " (2, 'R'): (3, -1),\n",
              " (2, 'U'): (2, -1),\n",
              " (3, 'D'): (8, -1),\n",
              " (3, 'L'): (2, -1),\n",
              " (3, 'R'): (4, -1),\n",
              " (3, 'U'): (3, -1),\n",
              " (4, 'D'): (9, -1),\n",
              " (4, 'L'): (3, -1),\n",
              " (4, 'R'): (4, -1),\n",
              " (4, 'U'): (4, -1),\n",
              " (5, 'D'): (10, -1),\n",
              " (5, 'L'): (5, -1),\n",
              " (5, 'R'): (6, -1),\n",
              " (5, 'U'): (0, -1),\n",
              " (6, 'D'): (11, -1),\n",
              " (6, 'L'): (5, -1),\n",
              " (6, 'R'): (7, -1),\n",
              " (6, 'U'): (1, -1),\n",
              " (7, 'D'): (12, -11),\n",
              " (7, 'L'): (6, -1),\n",
              " (7, 'R'): (8, -1),\n",
              " (7, 'U'): (2, -1),\n",
              " (8, 'D'): (13, -1),\n",
              " (8, 'L'): (7, -1),\n",
              " (8, 'R'): (9, -1),\n",
              " (8, 'U'): (3, -1),\n",
              " (9, 'D'): (14, -1),\n",
              " (9, 'L'): (8, -1),\n",
              " (9, 'R'): (9, -1),\n",
              " (9, 'U'): (4, -1),\n",
              " (10, 'D'): (15, -1),\n",
              " (10, 'L'): (10, -1),\n",
              " (10, 'R'): (11, -1),\n",
              " (10, 'U'): (5, -1),\n",
              " (11, 'D'): (16, -1),\n",
              " (11, 'L'): (10, -1),\n",
              " (11, 'R'): (12, -11),\n",
              " (11, 'U'): (6, -1),\n",
              " (12, 'D'): (17, -1),\n",
              " (12, 'L'): (11, -1),\n",
              " (12, 'R'): (13, -1),\n",
              " (12, 'U'): (7, -1),\n",
              " (13, 'D'): (18, 9),\n",
              " (13, 'L'): (12, -11),\n",
              " (13, 'R'): (14, -1),\n",
              " (13, 'U'): (8, -1),\n",
              " (14, 'D'): (19, -1),\n",
              " (14, 'L'): (13, -1),\n",
              " (14, 'R'): (14, -1),\n",
              " (14, 'U'): (9, -1),\n",
              " (15, 'D'): (20, -1),\n",
              " (15, 'L'): (15, -1),\n",
              " (15, 'R'): (16, -1),\n",
              " (15, 'U'): (10, -1),\n",
              " (16, 'D'): (21, -1),\n",
              " (16, 'L'): (15, -1),\n",
              " (16, 'R'): (17, -1),\n",
              " (16, 'U'): (11, -1),\n",
              " (17, 'D'): (22, -1),\n",
              " (17, 'L'): (16, -1),\n",
              " (17, 'R'): (18, 9),\n",
              " (17, 'U'): (12, -11),\n",
              " (18, 'D'): (23, -1),\n",
              " (18, 'L'): (17, -1),\n",
              " (18, 'R'): (19, -1),\n",
              " (18, 'U'): (13, -1),\n",
              " (19, 'D'): (24, -1),\n",
              " (19, 'L'): (18, 9),\n",
              " (19, 'R'): (19, -1),\n",
              " (19, 'U'): (14, -1),\n",
              " (20, 'D'): (20, -1),\n",
              " (20, 'L'): (20, -1),\n",
              " (20, 'R'): (21, -1),\n",
              " (20, 'U'): (15, -1),\n",
              " (21, 'D'): (21, -1),\n",
              " (21, 'L'): (20, -1),\n",
              " (21, 'R'): (22, -1),\n",
              " (21, 'U'): (16, -1),\n",
              " (22, 'D'): (22, -1),\n",
              " (22, 'L'): (21, -1),\n",
              " (22, 'R'): (23, -1),\n",
              " (22, 'U'): (17, -1),\n",
              " (23, 'D'): (23, -1),\n",
              " (23, 'L'): (22, -1),\n",
              " (23, 'R'): (24, -1),\n",
              " (23, 'U'): (18, 9),\n",
              " (24, 'D'): (24, -1),\n",
              " (24, 'L'): (23, -1),\n",
              " (24, 'R'): (24, -1),\n",
              " (24, 'U'): (19, -1)}"
            ]
          },
          "metadata": {},
          "execution_count": 14
        }
      ]
    },
    {
      "cell_type": "code",
      "source": [
        ""
      ],
      "metadata": {
        "id": "N-FcV89THS3N"
      },
      "execution_count": null,
      "outputs": []
    }
  ]
}